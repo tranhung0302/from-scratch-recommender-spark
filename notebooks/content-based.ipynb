{
 "cells": [
  {
   "cell_type": "code",
   "execution_count": 40,
   "id": "4c7d7185",
   "metadata": {},
   "outputs": [],
   "source": [
    "from pyspark.sql import SparkSession, Window\n",
    "from pyspark.sql import functions as f\n",
    "from pyspark.ml.linalg import Vectors, VectorUDT\n",
    "import numpy as np\n",
    "from pyspark.sql.types import FloatType\n"
   ]
  },
  {
   "cell_type": "code",
   "execution_count": 2,
   "id": "612d09b3",
   "metadata": {},
   "outputs": [
    {
     "name": "stderr",
     "output_type": "stream",
     "text": [
      "WARNING: Using incubator modules: jdk.incubator.vector\n",
      "Using Spark's default log4j profile: org/apache/spark/log4j2-defaults.properties\n",
      "25/08/10 21:45:52 WARN Utils: Your hostname, Hungs-MacBook-Pro.local, resolves to a loopback address: 127.0.0.1; using 192.168.97.154 instead (on interface en0)\n",
      "25/08/10 21:45:52 WARN Utils: Set SPARK_LOCAL_IP if you need to bind to another address\n",
      "Using Spark's default log4j profile: org/apache/spark/log4j2-defaults.properties\n",
      "Setting default log level to \"WARN\".\n",
      "To adjust logging level use sc.setLogLevel(newLevel). For SparkR, use setLogLevel(newLevel).\n",
      "25/08/10 21:45:53 WARN NativeCodeLoader: Unable to load native-hadoop library for your platform... using builtin-java classes where applicable\n"
     ]
    }
   ],
   "source": [
    "spark = SparkSession.builder \\\n",
    "    .master(\"local[*]\") \\\n",
    "    .appName(\"content-based\") \\\n",
    "    .getOrCreate()"
   ]
  },
  {
   "cell_type": "code",
   "execution_count": 3,
   "id": "0bbb36c1",
   "metadata": {},
   "outputs": [],
   "source": [
    "# UDF to calculate cosine similarity\n",
    "def cosine_similarity(v1, v2):\n",
    "    \"\"\"\n",
    "    return cosine similirity of 2 two vector a and b\n",
    "    \"\"\"\n",
    "    v1 = np.array(v1.toArray())\n",
    "    v2 = np.array(v2.toArray())\n",
    "    return float(np.dot(v1, v2) / (np.linalg.norm(v1) * np.linalg.norm(v2)))\n",
    "\n",
    "cosine_sim_udf = f.udf(cosine_similarity, FloatType())\n",
    "\n",
    "# Convert array to vector\n",
    "to_vector = f.udf(lambda row: Vectors.dense(row), VectorUDT())\n",
    "\n",
    "# UDF to multiply vector by scalar\n",
    "def scale_vector(scalar, vector):\n",
    "    return Vectors.dense([scalar * x for x in vector])\n",
    "\n",
    "scale_vector_udf = f.udf(scale_vector, VectorUDT())\n",
    "\n",
    "# UDF to sum a list of vectors\n",
    "def sum_vectors(vectors):\n",
    "    if not vectors:\n",
    "        return None\n",
    "    length = len(vectors[0])\n",
    "    summed = [0.0] * length\n",
    "    for v in vectors:\n",
    "        for i in range(length):\n",
    "            summed[i] += v[i]\n",
    "    return Vectors.dense(summed)\n",
    "\n",
    "sum_vectors_udf = f.udf(sum_vectors, VectorUDT())\n",
    "\n",
    "# UDF to normalize a vector (L2 norm)\n",
    "def normalize_vector(vector):\n",
    "    return vector / np.linalg.norm(vector)\n",
    "\n",
    "normalize_vector_udf = f.udf(normalize_vector, VectorUDT())"
   ]
  },
  {
   "cell_type": "code",
   "execution_count": 4,
   "id": "53c05589",
   "metadata": {},
   "outputs": [
    {
     "name": "stderr",
     "output_type": "stream",
     "text": [
      "                                                                                \r"
     ]
    }
   ],
   "source": [
    "# load movies and ratings data\n",
    "movies_df = spark.read.parquet(\"../data/movie.parquet\")\n",
    "ratings_df = spark.read.parquet(\"../data/rating.parquet\")"
   ]
  },
  {
   "cell_type": "code",
   "execution_count": 5,
   "id": "c99c04c8",
   "metadata": {},
   "outputs": [],
   "source": [
    "ratings_df = ratings_df.filter(f\"user_id < 3\").select([\"user_id\", \"movie_id\", \"rating\"])"
   ]
  },
  {
   "cell_type": "code",
   "execution_count": 6,
   "id": "01d04192",
   "metadata": {},
   "outputs": [
    {
     "name": "stderr",
     "output_type": "stream",
     "text": [
      "[Stage 2:>                                                          (0 + 1) / 1]\r"
     ]
    },
    {
     "name": "stdout",
     "output_type": "stream",
     "text": [
      "+--------+----------------+--------------------+\n",
      "|movie_id|           title|              genres|\n",
      "+--------+----------------+--------------------+\n",
      "|       1|Toy Story (1995)|Adventure|Animati...|\n",
      "|       2|  Jumanji (1995)|Adventure|Childre...|\n",
      "+--------+----------------+--------------------+\n",
      "only showing top 2 rows\n"
     ]
    },
    {
     "name": "stderr",
     "output_type": "stream",
     "text": [
      "                                                                                \r"
     ]
    }
   ],
   "source": [
    "movies_df.show(2)"
   ]
  },
  {
   "cell_type": "code",
   "execution_count": 7,
   "id": "9fcccc81",
   "metadata": {},
   "outputs": [
    {
     "name": "stdout",
     "output_type": "stream",
     "text": [
      "+-------+--------+------+\n",
      "|user_id|movie_id|rating|\n",
      "+-------+--------+------+\n",
      "|      1|       2|   3.5|\n",
      "|      1|      29|   3.5|\n",
      "+-------+--------+------+\n",
      "only showing top 2 rows\n"
     ]
    }
   ],
   "source": [
    "ratings_df.show(2)"
   ]
  },
  {
   "cell_type": "code",
   "execution_count": 8,
   "id": "3836004e",
   "metadata": {},
   "outputs": [
    {
     "name": "stdout",
     "output_type": "stream",
     "text": [
      "+--------+---------+\n",
      "|movie_id|    genre|\n",
      "+--------+---------+\n",
      "|       1|Adventure|\n",
      "|       1|Animation|\n",
      "+--------+---------+\n",
      "only showing top 2 rows\n"
     ]
    }
   ],
   "source": [
    "# Create movie-genre pairs\n",
    "movie_genre_pairs_df = movies_df \\\n",
    "    .withColumn(\"genres_array\", f.split(f.col(\"genres\"), \"\\\\|\")) \\\n",
    "    .withColumn(\"genre\", f.explode(\"genres_array\")) \\\n",
    "    .select([\"movie_id\", \"genre\"])\n",
    "\n",
    "movie_genre_pairs_df.show(2)"
   ]
  },
  {
   "cell_type": "code",
   "execution_count": 9,
   "id": "121dda6c",
   "metadata": {},
   "outputs": [
    {
     "name": "stderr",
     "output_type": "stream",
     "text": [
      "[Stage 13:>                                                         (0 + 1) / 1]\r"
     ]
    },
    {
     "name": "stdout",
     "output_type": "stream",
     "text": [
      "['(no genres listed)', 'Action', 'Adventure', 'Animation', 'Children', 'Comedy', 'Crime', 'Documentary', 'Drama', 'Fantasy', 'Film-Noir', 'Horror', 'IMAX', 'Musical', 'Mystery', 'Romance', 'Sci-Fi', 'Thriller', 'War', 'Western']\n"
     ]
    },
    {
     "name": "stderr",
     "output_type": "stream",
     "text": [
      "                                                                                \r"
     ]
    }
   ],
   "source": [
    "# Get unique genres\n",
    "genres = movie_genre_pairs_df.select(\"genre\").distinct().sort(\"genre\").rdd.map(lambda x: x.genre).collect()\n",
    "print(genres)"
   ]
  },
  {
   "cell_type": "code",
   "execution_count": 10,
   "id": "689765e8",
   "metadata": {},
   "outputs": [
    {
     "name": "stderr",
     "output_type": "stream",
     "text": [
      "[Stage 27:>                                                         (0 + 1) / 1]\r"
     ]
    },
    {
     "name": "stdout",
     "output_type": "stream",
     "text": [
      "+--------+--------------------+\n",
      "|movie_id|             feature|\n",
      "+--------+--------------------+\n",
      "|   89844|[0.0,0.0,0.0,0.0,...|\n",
      "|   90817|[0.0,0.0,1.0,0.0,...|\n",
      "+--------+--------------------+\n",
      "only showing top 2 rows\n"
     ]
    },
    {
     "name": "stderr",
     "output_type": "stream",
     "text": [
      "                                                                                \r"
     ]
    }
   ],
   "source": [
    "# Create movie features\n",
    "movie_features_df = movie_genre_pairs_df \\\n",
    "                .groupBy(\"movie_id\") \\\n",
    "                .pivot(\"genre\") \\\n",
    "                .agg(f.lit(1)) \\\n",
    "                .na.fill(0) \\\n",
    "                .withColumn(\"feature\", to_vector(f.array(genres))) \\\n",
    "                .select([\"movie_id\", \"feature\"])\n",
    "\n",
    "movie_features_df.show(2)"
   ]
  },
  {
   "cell_type": "code",
   "execution_count": 11,
   "id": "d3de90ab",
   "metadata": {},
   "outputs": [
    {
     "name": "stdout",
     "output_type": "stream",
     "text": [
      "+-------+--------+------+\n",
      "|user_id|movie_id|rating|\n",
      "+-------+--------+------+\n",
      "|      1|       2|   3.5|\n",
      "|      1|      29|   3.5|\n",
      "+-------+--------+------+\n",
      "only showing top 2 rows\n"
     ]
    }
   ],
   "source": [
    "# Keep only high ratings to aggrergate user profiles (default is 3)\n",
    "rating_threshold = 3\n",
    "high_ratings = ratings_df.filter(f\"rating >= {rating_threshold}\")\n",
    "high_ratings.show(2)"
   ]
  },
  {
   "cell_type": "code",
   "execution_count": 12,
   "id": "447cff0b",
   "metadata": {},
   "outputs": [
    {
     "name": "stderr",
     "output_type": "stream",
     "text": [
      "[Stage 36:====================================================>   (15 + 1) / 16]\r"
     ]
    },
    {
     "name": "stdout",
     "output_type": "stream",
     "text": [
      "+-------+----------------------------------------------------------------------------------------------------------------------------------------------------------------------------------------------------------------------------------------------------------------------------------------------------------------------------------------------------------------+\n",
      "|user_id|profile                                                                                                                                                                                                                                                                                                                                                         |\n",
      "+-------+----------------------------------------------------------------------------------------------------------------------------------------------------------------------------------------------------------------------------------------------------------------------------------------------------------------------------------------------------------------+\n",
      "|1      |[0.0,0.41556766578196286,0.4670912991411087,0.06165943008553514,0.11571701262627829,0.25846281652292813,0.13514395635185786,0.0,0.27366651161251215,0.44175180732513536,0.0,0.2846469580661006,0.014359045362384897,0.018582293998380454,0.10980446453588451,0.07348452626632271,0.25086096897813615,0.2669093137949193,0.05574688199514136,0.02280554263437601]|\n",
      "|2      |[0.0,0.4302471241591344,0.4009120929664662,0.014667515596334129,0.014667515596334129,0.18089935902145424,0.024445859327223547,0.0,0.3520203743120191,0.0,0.024445859327223547,0.2542369370031249,0.014667515596334129,0.029335031192668257,0.08800509357800478,0.1026726091743389,0.5182522177371391,0.3666878899083532,0.08311592171256006,0.04400254678900239]|\n",
      "+-------+----------------------------------------------------------------------------------------------------------------------------------------------------------------------------------------------------------------------------------------------------------------------------------------------------------------------------------------------------------------+\n",
      "\n"
     ]
    },
    {
     "name": "stderr",
     "output_type": "stream",
     "text": [
      "                                                                                \r"
     ]
    }
   ],
   "source": [
    "# Create user profiles\n",
    "# For each user do:\n",
    "    # 1. calculate weighted vector for each movie the user has rated highly\n",
    "    # 2. sum weighted vectors to get user profile\n",
    "    # 3. normalize user profile using L2 norm\n",
    "user_profiles_df = high_ratings.alias(\"hr\") \\\n",
    "    .join(movie_features_df.alias(\"mf\"), f.col(\"hr.movie_id\") == f.col(\"mf.movie_id\")) \\\n",
    "    .withColumn(\"weighted_feature\", scale_vector_udf(\"hr.rating\", \"mf.feature\")) \\\n",
    "    .groupBy(\"user_id\") \\\n",
    "    .agg(sum_vectors_udf(f.collect_list(\"weighted_feature\")).alias(\"sum_weighted_features\")) \\\n",
    "    .withColumn(\"profile\", normalize_vector_udf(\"sum_weighted_features\")) \\\n",
    "    .select(\"user_id\", \"profile\")\n",
    "\n",
    "user_profiles_df.show(truncate=False)"
   ]
  },
  {
   "cell_type": "code",
   "execution_count": 13,
   "id": "0937796f",
   "metadata": {},
   "outputs": [
    {
     "name": "stdout",
     "output_type": "stream",
     "text": [
      "+-------+----------------------------------------------------------------------------------------------------------------------------------------------------------------------------------------------------------------------------------------------------------------------------------------------------------------------------------------------------------------+--------+---------------------------------------------------------------------------------+\n",
      "|user_id|profile                                                                                                                                                                                                                                                                                                                                                         |movie_id|feature                                                                          |\n",
      "+-------+----------------------------------------------------------------------------------------------------------------------------------------------------------------------------------------------------------------------------------------------------------------------------------------------------------------------------------------------------------------+--------+---------------------------------------------------------------------------------+\n",
      "|1      |[0.0,0.41556766578196286,0.4670912991411087,0.06165943008553514,0.11571701262627829,0.25846281652292813,0.13514395635185786,0.0,0.27366651161251215,0.44175180732513536,0.0,0.2846469580661006,0.014359045362384897,0.018582293998380454,0.10980446453588451,0.07348452626632271,0.25086096897813615,0.2669093137949193,0.05574688199514136,0.02280554263437601]|1       |[0.0,0.0,1.0,1.0,1.0,1.0,0.0,0.0,0.0,1.0,0.0,0.0,0.0,0.0,0.0,0.0,0.0,0.0,0.0,0.0]|\n",
      "|2      |[0.0,0.4302471241591344,0.4009120929664662,0.014667515596334129,0.014667515596334129,0.18089935902145424,0.024445859327223547,0.0,0.3520203743120191,0.0,0.024445859327223547,0.2542369370031249,0.014667515596334129,0.029335031192668257,0.08800509357800478,0.1026726091743389,0.5182522177371391,0.3666878899083532,0.08311592171256006,0.04400254678900239]|2       |[0.0,0.0,1.0,0.0,1.0,0.0,0.0,0.0,0.0,1.0,0.0,0.0,0.0,0.0,0.0,0.0,0.0,0.0,0.0,0.0]|\n",
      "+-------+----------------------------------------------------------------------------------------------------------------------------------------------------------------------------------------------------------------------------------------------------------------------------------------------------------------------------------------------------------------+--------+---------------------------------------------------------------------------------+\n",
      "\n"
     ]
    }
   ],
   "source": [
    "user_profiles_df.alias(\"up\") \\\n",
    "    .join(movie_features_df.alias(\"mf\"), f.col(\"up.user_id\") == f.col(\"mf.movie_id\"), how=\"left\") \\\n",
    "    .show(truncate=False)"
   ]
  },
  {
   "cell_type": "code",
   "execution_count": 14,
   "id": "faef4d2e",
   "metadata": {},
   "outputs": [
    {
     "name": "stdout",
     "output_type": "stream",
     "text": [
      "+-------+\n",
      "|user_id|\n",
      "+-------+\n",
      "|      1|\n",
      "|      2|\n",
      "+-------+\n",
      "\n"
     ]
    }
   ],
   "source": [
    "users_df = user_profiles_df.select(\"user_id\").distinct()\n",
    "\n",
    "users_df.show(2)"
   ]
  },
  {
   "cell_type": "code",
   "execution_count": 24,
   "id": "2078b6f2",
   "metadata": {},
   "outputs": [
    {
     "name": "stdout",
     "output_type": "stream",
     "text": [
      "+-------+--------+--------------------+\n",
      "|user_id|movie_id|             feature|\n",
      "+-------+--------+--------------------+\n",
      "|      1|   89844|[0.0,0.0,0.0,0.0,...|\n",
      "|      2|   89844|[0.0,0.0,0.0,0.0,...|\n",
      "+-------+--------+--------------------+\n",
      "only showing top 2 rows\n"
     ]
    }
   ],
   "source": [
    "user_movie_all = users_df.crossJoin(movie_features_df)\n",
    "\n",
    "user_movie_all.show(2)"
   ]
  },
  {
   "cell_type": "code",
   "execution_count": 33,
   "id": "bf935fb9",
   "metadata": {},
   "outputs": [
    {
     "name": "stdout",
     "output_type": "stream",
     "text": [
      "+-------+--------+---------------------------------------------------------------------------------+\n",
      "|user_id|movie_id|movie_feature                                                                    |\n",
      "+-------+--------+---------------------------------------------------------------------------------+\n",
      "|1      |89844   |[0.0,0.0,0.0,0.0,0.0,1.0,1.0,0.0,1.0,0.0,0.0,0.0,0.0,0.0,0.0,0.0,0.0,0.0,0.0,0.0]|\n",
      "|2      |89844   |[0.0,0.0,0.0,0.0,0.0,1.0,1.0,0.0,1.0,0.0,0.0,0.0,0.0,0.0,0.0,0.0,0.0,0.0,0.0,0.0]|\n",
      "|1      |90817   |[0.0,0.0,1.0,0.0,0.0,0.0,0.0,0.0,1.0,0.0,0.0,0.0,0.0,0.0,0.0,0.0,0.0,0.0,0.0,0.0]|\n",
      "|2      |90817   |[0.0,0.0,1.0,0.0,0.0,0.0,0.0,0.0,1.0,0.0,0.0,0.0,0.0,0.0,0.0,0.0,0.0,0.0,0.0,0.0]|\n",
      "|1      |5518    |[0.0,0.0,0.0,0.0,0.0,0.0,0.0,0.0,1.0,0.0,0.0,0.0,0.0,0.0,0.0,0.0,0.0,0.0,0.0,0.0]|\n",
      "|2      |5518    |[0.0,0.0,0.0,0.0,0.0,0.0,0.0,0.0,1.0,0.0,0.0,0.0,0.0,0.0,0.0,0.0,0.0,0.0,0.0,0.0]|\n",
      "|1      |54190   |[0.0,0.0,0.0,0.0,0.0,0.0,0.0,0.0,1.0,1.0,0.0,0.0,0.0,1.0,0.0,1.0,0.0,0.0,0.0,0.0]|\n",
      "|2      |54190   |[0.0,0.0,0.0,0.0,0.0,0.0,0.0,0.0,1.0,1.0,0.0,0.0,0.0,1.0,0.0,1.0,0.0,0.0,0.0,0.0]|\n",
      "|1      |100446  |[0.0,0.0,1.0,0.0,0.0,0.0,0.0,0.0,0.0,0.0,0.0,0.0,0.0,0.0,1.0,0.0,0.0,0.0,0.0,0.0]|\n",
      "|2      |100446  |[0.0,0.0,1.0,0.0,0.0,0.0,0.0,0.0,0.0,0.0,0.0,0.0,0.0,0.0,1.0,0.0,0.0,0.0,0.0,0.0]|\n",
      "|1      |1591    |[0.0,1.0,1.0,0.0,0.0,0.0,0.0,0.0,0.0,0.0,0.0,0.0,0.0,0.0,0.0,0.0,1.0,1.0,0.0,0.0]|\n",
      "|2      |1591    |[0.0,1.0,1.0,0.0,0.0,0.0,0.0,0.0,0.0,0.0,0.0,0.0,0.0,0.0,0.0,0.0,1.0,1.0,0.0,0.0]|\n",
      "|1      |91937   |[0.0,0.0,0.0,0.0,0.0,1.0,0.0,0.0,1.0,0.0,0.0,0.0,0.0,0.0,0.0,1.0,0.0,0.0,0.0,0.0]|\n",
      "|2      |91937   |[0.0,0.0,0.0,0.0,0.0,1.0,0.0,0.0,1.0,0.0,0.0,0.0,0.0,0.0,0.0,1.0,0.0,0.0,0.0,0.0]|\n",
      "|1      |7982    |[0.0,0.0,0.0,0.0,0.0,0.0,0.0,0.0,1.0,0.0,0.0,1.0,0.0,0.0,1.0,0.0,0.0,1.0,0.0,0.0]|\n",
      "|2      |7982    |[0.0,0.0,0.0,0.0,0.0,0.0,0.0,0.0,1.0,0.0,0.0,1.0,0.0,0.0,1.0,0.0,0.0,1.0,0.0,0.0]|\n",
      "|1      |88599   |[0.0,0.0,0.0,0.0,0.0,0.0,0.0,0.0,1.0,0.0,0.0,0.0,0.0,0.0,0.0,0.0,0.0,0.0,0.0,0.0]|\n",
      "|2      |88599   |[0.0,0.0,0.0,0.0,0.0,0.0,0.0,0.0,1.0,0.0,0.0,0.0,0.0,0.0,0.0,0.0,0.0,0.0,0.0,0.0]|\n",
      "|1      |7993    |[0.0,0.0,0.0,0.0,0.0,1.0,0.0,0.0,0.0,0.0,0.0,1.0,0.0,0.0,0.0,0.0,0.0,0.0,0.0,0.0]|\n",
      "|2      |7993    |[0.0,0.0,0.0,0.0,0.0,1.0,0.0,0.0,0.0,0.0,0.0,1.0,0.0,0.0,0.0,0.0,0.0,0.0,0.0,0.0]|\n",
      "+-------+--------+---------------------------------------------------------------------------------+\n",
      "only showing top 20 rows\n"
     ]
    }
   ],
   "source": [
    "users_candidates_df = user_movie_all \\\n",
    "    .join(ratings_df.select(\"user_id\", \"movie_id\"), on=[\"user_id\", \"movie_id\"], how=\"left_anti\") \\\n",
    "    .select([\"user_id\", \"movie_id\", f.col(\"feature\").alias(\"movie_feature\")])\n",
    "\n",
    "    \n",
    "users_candidates_df.show(truncate=False)"
   ]
  },
  {
   "cell_type": "code",
   "execution_count": 34,
   "id": "6ebc950e",
   "metadata": {},
   "outputs": [
    {
     "name": "stderr",
     "output_type": "stream",
     "text": [
      "[Stage 214:===============================>                        (9 + 7) / 16]\r"
     ]
    },
    {
     "name": "stdout",
     "output_type": "stream",
     "text": [
      "+-------+--------------------+\n",
      "|user_id|             profile|\n",
      "+-------+--------------------+\n",
      "|      1|[0.0,0.4155676657...|\n",
      "|      2|[0.0,0.4302471241...|\n",
      "+-------+--------------------+\n",
      "\n"
     ]
    },
    {
     "name": "stderr",
     "output_type": "stream",
     "text": [
      "                                                                                \r"
     ]
    }
   ],
   "source": [
    "user_profiles_df.show(2)"
   ]
  },
  {
   "cell_type": "code",
   "execution_count": 38,
   "id": "ead67605",
   "metadata": {},
   "outputs": [
    {
     "name": "stderr",
     "output_type": "stream",
     "text": [
      "                                                                                \r"
     ]
    },
    {
     "name": "stdout",
     "output_type": "stream",
     "text": [
      "+-------+--------+--------------------+--------------------+\n",
      "|user_id|movie_id|       movie_feature|             profile|\n",
      "+-------+--------+--------------------+--------------------+\n",
      "|      1|   89844|[0.0,0.0,0.0,0.0,...|[0.0,0.4155676657...|\n",
      "|      1|   90817|[0.0,0.0,1.0,0.0,...|[0.0,0.4155676657...|\n",
      "+-------+--------+--------------------+--------------------+\n",
      "only showing top 2 rows\n"
     ]
    }
   ],
   "source": [
    "user_profiles_candidates_features_df = users_candidates_df.alias(\"uc\") \\\n",
    "    .join(user_profiles_df.alias(\"up\"), f.col(\"uc.user_id\") == f.col(\"up.user_id\")) \\\n",
    "    .select([\"uc.user_id\", \"uc.movie_id\", \"uc.movie_feature\", \"up.profile\"]) \\\n",
    "   \n",
    "user_profiles_candidates_features_df.show(2)"
   ]
  },
  {
   "cell_type": "code",
   "execution_count": 42,
   "id": "9f1817d6",
   "metadata": {},
   "outputs": [
    {
     "name": "stderr",
     "output_type": "stream",
     "text": [
      "[Stage 314:>                                                        (0 + 1) / 1]\r"
     ]
    },
    {
     "name": "stdout",
     "output_type": "stream",
     "text": [
      "+-------+--------+--------------------+--------------------+----------+----+\n",
      "|user_id|movie_id|       movie_feature|             profile|similarity|rank|\n",
      "+-------+--------+--------------------+--------------------+----------+----+\n",
      "|      1|   72165|[0.0,1.0,1.0,0.0,...|[0.0,0.4155676657...|0.87137735|   1|\n",
      "|      1|    2617|[0.0,1.0,1.0,0.0,...|[0.0,0.4155676657...|0.87137735|   2|\n",
      "|      1|  117646|[0.0,1.0,1.0,0.0,...|[0.0,0.4155676657...| 0.8668946|   3|\n",
      "|      1|   49593|[0.0,1.0,1.0,0.0,...|[0.0,0.4155676657...|0.83419394|   4|\n",
      "|      1|    2429|[0.0,1.0,1.0,0.0,...|[0.0,0.4155676657...| 0.8340474|   5|\n",
      "|      1|   41569|[0.0,1.0,1.0,0.0,...|[0.0,0.4155676657...| 0.8340474|   6|\n",
      "|      1|   71999|[0.0,1.0,1.0,0.0,...|[0.0,0.4155676657...|0.82748973|   7|\n",
      "|      1|    4781|[0.0,1.0,1.0,0.0,...|[0.0,0.4155676657...| 0.8238484|   8|\n",
      "|      1|  120833|[0.0,1.0,1.0,0.0,...|[0.0,0.4155676657...|0.82007104|   9|\n",
      "|      1|    2366|[0.0,1.0,1.0,0.0,...|[0.0,0.4155676657...| 0.8045289|  10|\n",
      "|      2|   91500|[0.0,1.0,1.0,0.0,...|[0.0,0.4302471241...|0.92489123|   1|\n",
      "|      2|   48774|[0.0,1.0,1.0,0.0,...|[0.0,0.4302471241...|0.92489123|   2|\n",
      "|      2|   27618|[0.0,1.0,1.0,0.0,...|[0.0,0.4302471241...|0.92489123|   3|\n",
      "|      2|    8361|[0.0,1.0,1.0,0.0,...|[0.0,0.4302471241...|0.92489123|   4|\n",
      "|      2|   58025|[0.0,1.0,1.0,0.0,...|[0.0,0.4302471241...|0.92489123|   5|\n",
      "|      2|  102425|[0.0,1.0,1.0,0.0,...|[0.0,0.4302471241...|0.88116115|   6|\n",
      "|      2|  122280|[0.0,1.0,1.0,0.0,...|[0.0,0.4302471241...|0.88116115|   7|\n",
      "|      2|   54771|[0.0,1.0,0.0,0.0,...|[0.0,0.4302471241...|0.85929614|   8|\n",
      "|      2|   74685|[0.0,1.0,0.0,0.0,...|[0.0,0.4302471241...|0.85929614|   9|\n",
      "|      2|   27675|[0.0,1.0,0.0,0.0,...|[0.0,0.4302471241...|0.85929614|  10|\n",
      "+-------+--------+--------------------+--------------------+----------+----+\n",
      "\n"
     ]
    },
    {
     "name": "stderr",
     "output_type": "stream",
     "text": [
      "                                                                                \r"
     ]
    }
   ],
   "source": [
    "user_profiles_candidates_features_df \\\n",
    "    .withColumn(\"similarity\", cosine_sim_udf(f.col(\"movie_feature\"), f.col(\"profile\"))) \\\n",
    "    .withColumn(\"rank\", f.row_number().over(\n",
    "        Window.partitionBy(\"user_id\").orderBy(f.col(\"similarity\").desc())\n",
    "    )) \\\n",
    "    .filter(\"rank <= 10\").show()\n"
   ]
  },
  {
   "cell_type": "code",
   "execution_count": null,
   "id": "c5c3eb27",
   "metadata": {},
   "outputs": [],
   "source": []
  },
  {
   "cell_type": "code",
   "execution_count": null,
   "id": "80effb5f",
   "metadata": {},
   "outputs": [],
   "source": []
  }
 ],
 "metadata": {
  "kernelspec": {
   "display_name": "spark",
   "language": "python",
   "name": "python3"
  },
  "language_info": {
   "codemirror_mode": {
    "name": "ipython",
    "version": 3
   },
   "file_extension": ".py",
   "mimetype": "text/x-python",
   "name": "python",
   "nbconvert_exporter": "python",
   "pygments_lexer": "ipython3",
   "version": "3.10.18"
  }
 },
 "nbformat": 4,
 "nbformat_minor": 5
}
