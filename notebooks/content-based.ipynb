{
 "cells": [
  {
   "cell_type": "code",
   "execution_count": 40,
   "id": "4c7d7185",
   "metadata": {},
   "outputs": [],
   "source": [
    "from pyspark.sql import SparkSession, Window\n",
    "from pyspark.sql import functions as f\n",
    "from pyspark.ml.linalg import Vectors, VectorUDT\n",
    "import numpy as np\n",
    "from pyspark.sql.types import FloatType\n"
   ]
  },
  {
   "cell_type": "code",
   "execution_count": 2,
   "id": "612d09b3",
   "metadata": {},
   "outputs": [
    {
     "name": "stderr",
     "output_type": "stream",
     "text": [
      "WARNING: Using incubator modules: jdk.incubator.vector\n",
      "Using Spark's default log4j profile: org/apache/spark/log4j2-defaults.properties\n",
      "25/08/10 21:45:52 WARN Utils: Your hostname, Hungs-MacBook-Pro.local, resolves to a loopback address: 127.0.0.1; using 192.168.97.154 instead (on interface en0)\n",
      "25/08/10 21:45:52 WARN Utils: Set SPARK_LOCAL_IP if you need to bind to another address\n",
      "Using Spark's default log4j profile: org/apache/spark/log4j2-defaults.properties\n",
      "Setting default log level to \"WARN\".\n",
      "To adjust logging level use sc.setLogLevel(newLevel). For SparkR, use setLogLevel(newLevel).\n",
      "25/08/10 21:45:53 WARN NativeCodeLoader: Unable to load native-hadoop library for your platform... using builtin-java classes where applicable\n"
     ]
    }
   ],
   "source": [
    "spark = SparkSession.builder \\\n",
    "    .master(\"local[*]\") \\\n",
    "    .appName(\"content-based\") \\\n",
    "    .getOrCreate()"
   ]
  },
  {
   "cell_type": "code",
   "execution_count": 3,
   "id": "0bbb36c1",
   "metadata": {},
   "outputs": [],
   "source": [
    "# UDF to calculate cosine similarity\n",
    "def cosine_similarity(v1, v2):\n",
    "    \"\"\"\n",
    "    return cosine similirity of 2 two vector a and b\n",
    "    \"\"\"\n",
    "    v1 = np.array(v1.toArray())\n",
    "    v2 = np.array(v2.toArray())\n",
    "    return float(np.dot(v1, v2) / (np.linalg.norm(v1) * np.linalg.norm(v2)))\n",
    "\n",
    "cosine_sim_udf = f.udf(cosine_similarity, FloatType())\n",
    "\n",
    "# Convert array to vector\n",
    "to_vector = f.udf(lambda row: Vectors.dense(row), VectorUDT())\n",
    "\n",
    "# UDF to multiply vector by scalar\n",
    "def scale_vector(scalar, vector):\n",
    "    return Vectors.dense([scalar * x for x in vector])\n",
    "\n",
    "scale_vector_udf = f.udf(scale_vector, VectorUDT())\n",
    "\n",
    "# UDF to sum a list of vectors\n",
    "def sum_vectors(vectors):\n",
    "    if not vectors:\n",
    "        return None\n",
    "    length = len(vectors[0])\n",
    "    summed = [0.0] * length\n",
    "    for v in vectors:\n",
    "        for i in range(length):\n",
    "            summed[i] += v[i]\n",
    "    return Vectors.dense(summed)\n",
    "\n",
    "sum_vectors_udf = f.udf(sum_vectors, VectorUDT())\n",
    "\n",
    "# UDF to normalize a vector (L2 norm)\n",
    "def normalize_vector(vector):\n",
    "    return vector / np.linalg.norm(vector)\n",
    "\n",
    "normalize_vector_udf = f.udf(normalize_vector, VectorUDT())"
   ]
  },
  {
   "cell_type": "code",
   "execution_count": 99,
   "id": "3e34a6ba",
   "metadata": {},
   "outputs": [],
   "source": [
    "user_ids = [1, 2, 3]\n",
    "top_k = 5\n",
    "rating_threshold = 2"
   ]
  },
  {
   "cell_type": "code",
   "execution_count": 100,
   "id": "53c05589",
   "metadata": {},
   "outputs": [],
   "source": [
    "# load movies and ratings data\n",
    "movies_df = spark.read.parquet(\"../data/movie.parquet\")\n",
    "ratings_df = spark.read.parquet(\"../data/rating.parquet\")"
   ]
  },
  {
   "cell_type": "code",
   "execution_count": 101,
   "id": "c99c04c8",
   "metadata": {},
   "outputs": [],
   "source": [
    "\n",
    "ratings_df = ratings_df.filter(f.col(\"user_id\").isin(user_ids)).select([\"user_id\", \"movie_id\", \"rating\"])"
   ]
  },
  {
   "cell_type": "code",
   "execution_count": 102,
   "id": "01d04192",
   "metadata": {},
   "outputs": [
    {
     "name": "stdout",
     "output_type": "stream",
     "text": [
      "+--------+----------------+--------------------+\n",
      "|movie_id|           title|              genres|\n",
      "+--------+----------------+--------------------+\n",
      "|       1|Toy Story (1995)|Adventure|Animati...|\n",
      "|       2|  Jumanji (1995)|Adventure|Childre...|\n",
      "+--------+----------------+--------------------+\n",
      "only showing top 2 rows\n"
     ]
    }
   ],
   "source": [
    "movies_df.show(2)"
   ]
  },
  {
   "cell_type": "code",
   "execution_count": 103,
   "id": "9fcccc81",
   "metadata": {},
   "outputs": [
    {
     "name": "stdout",
     "output_type": "stream",
     "text": [
      "+-------+--------+------+\n",
      "|user_id|movie_id|rating|\n",
      "+-------+--------+------+\n",
      "|      1|       2|   3.5|\n",
      "|      1|      29|   3.5|\n",
      "+-------+--------+------+\n",
      "only showing top 2 rows\n"
     ]
    }
   ],
   "source": [
    "ratings_df.show(2)"
   ]
  },
  {
   "cell_type": "code",
   "execution_count": 104,
   "id": "3836004e",
   "metadata": {},
   "outputs": [
    {
     "name": "stdout",
     "output_type": "stream",
     "text": [
      "+--------+---------+\n",
      "|movie_id|    genre|\n",
      "+--------+---------+\n",
      "|       1|Adventure|\n",
      "|       1|Animation|\n",
      "+--------+---------+\n",
      "only showing top 2 rows\n"
     ]
    }
   ],
   "source": [
    "# Create movie-genre pairs\n",
    "movie_genre_pairs_df = movies_df \\\n",
    "    .withColumn(\"genres_array\", f.split(f.col(\"genres\"), \"\\\\|\")) \\\n",
    "    .withColumn(\"genre\", f.explode(\"genres_array\")) \\\n",
    "    .select([\"movie_id\", \"genre\"])\n",
    "\n",
    "movie_genre_pairs_df.show(2)"
   ]
  },
  {
   "cell_type": "code",
   "execution_count": 105,
   "id": "121dda6c",
   "metadata": {},
   "outputs": [
    {
     "name": "stdout",
     "output_type": "stream",
     "text": [
      "['(no genres listed)', 'Action', 'Adventure', 'Animation', 'Children', 'Comedy', 'Crime', 'Documentary', 'Drama', 'Fantasy', 'Film-Noir', 'Horror', 'IMAX', 'Musical', 'Mystery', 'Romance', 'Sci-Fi', 'Thriller', 'War', 'Western']\n"
     ]
    }
   ],
   "source": [
    "# Get unique genres\n",
    "genres = movie_genre_pairs_df.select(\"genre\").distinct().sort(\"genre\").rdd.map(lambda x: x.genre).collect()\n",
    "print(genres)"
   ]
  },
  {
   "cell_type": "code",
   "execution_count": 106,
   "id": "689765e8",
   "metadata": {},
   "outputs": [
    {
     "name": "stderr",
     "output_type": "stream",
     "text": [
      "[Stage 849:>                                                        (0 + 1) / 1]\r"
     ]
    },
    {
     "name": "stdout",
     "output_type": "stream",
     "text": [
      "+--------+--------------------+\n",
      "|movie_id|             feature|\n",
      "+--------+--------------------+\n",
      "|   89844|[0.0,0.0,0.0,0.0,...|\n",
      "|   90817|[0.0,0.0,1.0,0.0,...|\n",
      "+--------+--------------------+\n",
      "only showing top 2 rows\n"
     ]
    },
    {
     "name": "stderr",
     "output_type": "stream",
     "text": [
      "                                                                                \r"
     ]
    }
   ],
   "source": [
    "# Create movie features\n",
    "movie_features_df = movie_genre_pairs_df \\\n",
    "                .groupBy(\"movie_id\") \\\n",
    "                .pivot(\"genre\") \\\n",
    "                .agg(f.lit(1)) \\\n",
    "                .na.fill(0) \\\n",
    "                .withColumn(\"feature\", to_vector(f.array(genres))) \\\n",
    "                .select([\"movie_id\", \"feature\"])\n",
    "\n",
    "movie_features_df.show(2)"
   ]
  },
  {
   "cell_type": "code",
   "execution_count": 107,
   "id": "d3de90ab",
   "metadata": {},
   "outputs": [
    {
     "name": "stdout",
     "output_type": "stream",
     "text": [
      "+-------+--------+------+\n",
      "|user_id|movie_id|rating|\n",
      "+-------+--------+------+\n",
      "|      1|       2|   3.5|\n",
      "|      1|      29|   3.5|\n",
      "+-------+--------+------+\n",
      "only showing top 2 rows\n"
     ]
    }
   ],
   "source": [
    "# Keep only high ratings to aggrergate user profiles (default is 3)\n",
    "\n",
    "high_ratings = ratings_df.filter(f\"rating >= {rating_threshold}\")\n",
    "high_ratings.show(2)"
   ]
  },
  {
   "cell_type": "code",
   "execution_count": 108,
   "id": "447cff0b",
   "metadata": {},
   "outputs": [
    {
     "name": "stderr",
     "output_type": "stream",
     "text": [
      "[Stage 858:=========================================>             (12 + 4) / 16]\r"
     ]
    },
    {
     "name": "stdout",
     "output_type": "stream",
     "text": [
      "+-------+----------------------------------------------------------------------------------------------------------------------------------------------------------------------------------------------------------------------------------------------------------------------------------------------------------------------------------------------------------------------------------+\n",
      "|user_id|profile                                                                                                                                                                                                                                                                                                                                                                           |\n",
      "+-------+----------------------------------------------------------------------------------------------------------------------------------------------------------------------------------------------------------------------------------------------------------------------------------------------------------------------------------------------------------------------------------+\n",
      "|1      |[0.0,0.41556766578196286,0.4670912991411087,0.06165943008553514,0.11571701262627829,0.25846281652292813,0.13514395635185786,0.0,0.27366651161251215,0.44175180732513536,0.0,0.2846469580661006,0.014359045362384897,0.018582293998380454,0.10980446453588451,0.07348452626632271,0.25086096897813615,0.2669093137949193,0.05574688199514136,0.02280554263437601]                  |\n",
      "|3      |[0.0,0.37936136040706847,0.31866354274193753,0.02276168162442411,0.06525015399001578,0.32018098818356583,0.13657008974654467,0.006069781766513096,0.36873924231567057,0.13050030798003157,0.004552336324884822,0.1911981256451625,0.0,0.036418690599078575,0.07283738119815715,0.0986339537058378,0.5629722588440896,0.32169843362519407,0.04248847236559167,0.019726790741167562]|\n",
      "|2      |[0.0,0.41623502930933653,0.3878553682200636,0.014189830544636474,0.014189830544636474,0.18446779708027417,0.023649717574394123,0.0,0.350015820101033,0.00945988702975765,0.023649717574394123,0.3027163849522448,0.014189830544636474,0.028379661089272947,0.08513898326781884,0.10878870084221297,0.5013740125771554,0.3831254247051848,0.08040903975294002,0.04256949163390942] |\n",
      "+-------+----------------------------------------------------------------------------------------------------------------------------------------------------------------------------------------------------------------------------------------------------------------------------------------------------------------------------------------------------------------------------------+\n",
      "\n"
     ]
    },
    {
     "name": "stderr",
     "output_type": "stream",
     "text": [
      "                                                                                \r"
     ]
    }
   ],
   "source": [
    "# Create user profiles\n",
    "# For each user do:\n",
    "    # 1. calculate weighted vector for each movie the user has rated highly\n",
    "    # 2. sum weighted vectors to get user profile\n",
    "    # 3. normalize user profile using L2 norm\n",
    "user_profiles_df = high_ratings.alias(\"hr\") \\\n",
    "    .join(movie_features_df.alias(\"mf\"), f.col(\"hr.movie_id\") == f.col(\"mf.movie_id\")) \\\n",
    "    .withColumn(\"weighted_feature\", scale_vector_udf(\"hr.rating\", \"mf.feature\")) \\\n",
    "    .groupBy(\"user_id\") \\\n",
    "    .agg(sum_vectors_udf(f.collect_list(\"weighted_feature\")).alias(\"sum_weighted_features\")) \\\n",
    "    .withColumn(\"profile\", normalize_vector_udf(\"sum_weighted_features\")) \\\n",
    "    .select(\"user_id\", \"profile\")\n",
    "\n",
    "user_profiles_df.show(truncate=False)"
   ]
  },
  {
   "cell_type": "code",
   "execution_count": 109,
   "id": "faef4d2e",
   "metadata": {},
   "outputs": [
    {
     "name": "stdout",
     "output_type": "stream",
     "text": [
      "+-------+\n",
      "|user_id|\n",
      "+-------+\n",
      "|      1|\n",
      "|      3|\n",
      "+-------+\n",
      "only showing top 2 rows\n"
     ]
    }
   ],
   "source": [
    "users_df = user_profiles_df.select(\"user_id\").distinct()\n",
    "\n",
    "users_df.show(2)"
   ]
  },
  {
   "cell_type": "code",
   "execution_count": 110,
   "id": "2078b6f2",
   "metadata": {},
   "outputs": [
    {
     "name": "stdout",
     "output_type": "stream",
     "text": [
      "+-------+--------+--------------------+\n",
      "|user_id|movie_id|             feature|\n",
      "+-------+--------+--------------------+\n",
      "|      1|   89844|[0.0,0.0,0.0,0.0,...|\n",
      "|      3|   89844|[0.0,0.0,0.0,0.0,...|\n",
      "+-------+--------+--------------------+\n",
      "only showing top 2 rows\n"
     ]
    }
   ],
   "source": [
    "user_movie_all = users_df.crossJoin(movie_features_df)\n",
    "\n",
    "user_movie_all.show(2)"
   ]
  },
  {
   "cell_type": "code",
   "execution_count": 111,
   "id": "bf935fb9",
   "metadata": {},
   "outputs": [
    {
     "name": "stdout",
     "output_type": "stream",
     "text": [
      "+-------+--------+---------------------------------------------------------------------------------+\n",
      "|user_id|movie_id|movie_feature                                                                    |\n",
      "+-------+--------+---------------------------------------------------------------------------------+\n",
      "|1      |89844   |[0.0,0.0,0.0,0.0,0.0,1.0,1.0,0.0,1.0,0.0,0.0,0.0,0.0,0.0,0.0,0.0,0.0,0.0,0.0,0.0]|\n",
      "|3      |89844   |[0.0,0.0,0.0,0.0,0.0,1.0,1.0,0.0,1.0,0.0,0.0,0.0,0.0,0.0,0.0,0.0,0.0,0.0,0.0,0.0]|\n",
      "|2      |89844   |[0.0,0.0,0.0,0.0,0.0,1.0,1.0,0.0,1.0,0.0,0.0,0.0,0.0,0.0,0.0,0.0,0.0,0.0,0.0,0.0]|\n",
      "|1      |90817   |[0.0,0.0,1.0,0.0,0.0,0.0,0.0,0.0,1.0,0.0,0.0,0.0,0.0,0.0,0.0,0.0,0.0,0.0,0.0,0.0]|\n",
      "|3      |90817   |[0.0,0.0,1.0,0.0,0.0,0.0,0.0,0.0,1.0,0.0,0.0,0.0,0.0,0.0,0.0,0.0,0.0,0.0,0.0,0.0]|\n",
      "|2      |90817   |[0.0,0.0,1.0,0.0,0.0,0.0,0.0,0.0,1.0,0.0,0.0,0.0,0.0,0.0,0.0,0.0,0.0,0.0,0.0,0.0]|\n",
      "|1      |5518    |[0.0,0.0,0.0,0.0,0.0,0.0,0.0,0.0,1.0,0.0,0.0,0.0,0.0,0.0,0.0,0.0,0.0,0.0,0.0,0.0]|\n",
      "|3      |5518    |[0.0,0.0,0.0,0.0,0.0,0.0,0.0,0.0,1.0,0.0,0.0,0.0,0.0,0.0,0.0,0.0,0.0,0.0,0.0,0.0]|\n",
      "|2      |5518    |[0.0,0.0,0.0,0.0,0.0,0.0,0.0,0.0,1.0,0.0,0.0,0.0,0.0,0.0,0.0,0.0,0.0,0.0,0.0,0.0]|\n",
      "|1      |54190   |[0.0,0.0,0.0,0.0,0.0,0.0,0.0,0.0,1.0,1.0,0.0,0.0,0.0,1.0,0.0,1.0,0.0,0.0,0.0,0.0]|\n",
      "|3      |54190   |[0.0,0.0,0.0,0.0,0.0,0.0,0.0,0.0,1.0,1.0,0.0,0.0,0.0,1.0,0.0,1.0,0.0,0.0,0.0,0.0]|\n",
      "|2      |54190   |[0.0,0.0,0.0,0.0,0.0,0.0,0.0,0.0,1.0,1.0,0.0,0.0,0.0,1.0,0.0,1.0,0.0,0.0,0.0,0.0]|\n",
      "|1      |100446  |[0.0,0.0,1.0,0.0,0.0,0.0,0.0,0.0,0.0,0.0,0.0,0.0,0.0,0.0,1.0,0.0,0.0,0.0,0.0,0.0]|\n",
      "|3      |100446  |[0.0,0.0,1.0,0.0,0.0,0.0,0.0,0.0,0.0,0.0,0.0,0.0,0.0,0.0,1.0,0.0,0.0,0.0,0.0,0.0]|\n",
      "|2      |100446  |[0.0,0.0,1.0,0.0,0.0,0.0,0.0,0.0,0.0,0.0,0.0,0.0,0.0,0.0,1.0,0.0,0.0,0.0,0.0,0.0]|\n",
      "|1      |1591    |[0.0,1.0,1.0,0.0,0.0,0.0,0.0,0.0,0.0,0.0,0.0,0.0,0.0,0.0,0.0,0.0,1.0,1.0,0.0,0.0]|\n",
      "|3      |1591    |[0.0,1.0,1.0,0.0,0.0,0.0,0.0,0.0,0.0,0.0,0.0,0.0,0.0,0.0,0.0,0.0,1.0,1.0,0.0,0.0]|\n",
      "|2      |1591    |[0.0,1.0,1.0,0.0,0.0,0.0,0.0,0.0,0.0,0.0,0.0,0.0,0.0,0.0,0.0,0.0,1.0,1.0,0.0,0.0]|\n",
      "|1      |91937   |[0.0,0.0,0.0,0.0,0.0,1.0,0.0,0.0,1.0,0.0,0.0,0.0,0.0,0.0,0.0,1.0,0.0,0.0,0.0,0.0]|\n",
      "|3      |91937   |[0.0,0.0,0.0,0.0,0.0,1.0,0.0,0.0,1.0,0.0,0.0,0.0,0.0,0.0,0.0,1.0,0.0,0.0,0.0,0.0]|\n",
      "+-------+--------+---------------------------------------------------------------------------------+\n",
      "only showing top 20 rows\n"
     ]
    }
   ],
   "source": [
    "users_candidates_df = user_movie_all \\\n",
    "    .join(ratings_df.select(\"user_id\", \"movie_id\"), on=[\"user_id\", \"movie_id\"], how=\"left_anti\") \\\n",
    "    .select([\"user_id\", \"movie_id\", f.col(\"feature\").alias(\"movie_feature\")])\n",
    "\n",
    "    \n",
    "users_candidates_df.show(truncate=False)"
   ]
  },
  {
   "cell_type": "code",
   "execution_count": 112,
   "id": "6ebc950e",
   "metadata": {},
   "outputs": [
    {
     "name": "stderr",
     "output_type": "stream",
     "text": [
      "[Stage 900:================================================>      (14 + 2) / 16]\r"
     ]
    },
    {
     "name": "stdout",
     "output_type": "stream",
     "text": [
      "+-------+--------------------+\n",
      "|user_id|             profile|\n",
      "+-------+--------------------+\n",
      "|      1|[0.0,0.4155676657...|\n",
      "|      3|[0.0,0.3793613604...|\n",
      "+-------+--------------------+\n",
      "only showing top 2 rows\n"
     ]
    },
    {
     "name": "stderr",
     "output_type": "stream",
     "text": [
      "                                                                                \r"
     ]
    }
   ],
   "source": [
    "user_profiles_df.show(2)"
   ]
  },
  {
   "cell_type": "code",
   "execution_count": 113,
   "id": "ead67605",
   "metadata": {},
   "outputs": [
    {
     "name": "stderr",
     "output_type": "stream",
     "text": [
      "                                                                                \r"
     ]
    },
    {
     "name": "stdout",
     "output_type": "stream",
     "text": [
      "+-------+--------+--------------------+--------------------+\n",
      "|user_id|movie_id|       movie_feature|             profile|\n",
      "+-------+--------+--------------------+--------------------+\n",
      "|      1|   89844|[0.0,0.0,0.0,0.0,...|[0.0,0.4155676657...|\n",
      "|      1|   90817|[0.0,0.0,1.0,0.0,...|[0.0,0.4155676657...|\n",
      "+-------+--------+--------------------+--------------------+\n",
      "only showing top 2 rows\n"
     ]
    }
   ],
   "source": [
    "user_profiles_candidates_features_df = users_candidates_df.alias(\"uc\") \\\n",
    "    .join(user_profiles_df.alias(\"up\"), f.col(\"uc.user_id\") == f.col(\"up.user_id\")) \\\n",
    "    .select([\"uc.user_id\", \"uc.movie_id\", \"uc.movie_feature\", \"up.profile\"]) \\\n",
    "   \n",
    "user_profiles_candidates_features_df.show(2)"
   ]
  },
  {
   "cell_type": "code",
   "execution_count": null,
   "id": "9f1817d6",
   "metadata": {},
   "outputs": [
    {
     "name": "stderr",
     "output_type": "stream",
     "text": [
      "[Stage 984:>                                                        (0 + 1) / 1]\r"
     ]
    },
    {
     "name": "stdout",
     "output_type": "stream",
     "text": [
      "+-------+--------+--------------------+--------------------+----------+----+\n",
      "|user_id|movie_id|       movie_feature|             profile|similarity|rank|\n",
      "+-------+--------+--------------------+--------------------+----------+----+\n",
      "|      1|   72165|[0.0,1.0,1.0,0.0,...|[0.0,0.4155676657...|0.87137735|   1|\n",
      "|      1|    2617|[0.0,1.0,1.0,0.0,...|[0.0,0.4155676657...|0.87137735|   2|\n",
      "|      1|  117646|[0.0,1.0,1.0,0.0,...|[0.0,0.4155676657...| 0.8668946|   3|\n",
      "|      1|   49593|[0.0,1.0,1.0,0.0,...|[0.0,0.4155676657...|0.83419394|   4|\n",
      "|      1|    2429|[0.0,1.0,1.0,0.0,...|[0.0,0.4155676657...| 0.8340474|   5|\n",
      "|      2|   91500|[0.0,1.0,1.0,0.0,...|[0.0,0.4162350293...|0.91169214|   1|\n",
      "|      2|   48774|[0.0,1.0,1.0,0.0,...|[0.0,0.4162350293...|0.91169214|   2|\n",
      "|      2|   27618|[0.0,1.0,1.0,0.0,...|[0.0,0.4162350293...|0.91169214|   3|\n",
      "|      2|    8361|[0.0,1.0,1.0,0.0,...|[0.0,0.4162350293...|0.91169214|   4|\n",
      "|      2|   58025|[0.0,1.0,1.0,0.0,...|[0.0,0.4162350293...|0.91169214|   5|\n",
      "|      3|   91500|[0.0,1.0,1.0,0.0,...|[0.0,0.3793613604...| 0.8727082|   1|\n",
      "|      3|   48774|[0.0,1.0,1.0,0.0,...|[0.0,0.3793613604...| 0.8727082|   2|\n",
      "|      3|   27618|[0.0,1.0,1.0,0.0,...|[0.0,0.3793613604...| 0.8727082|   3|\n",
      "|      3|    8361|[0.0,1.0,1.0,0.0,...|[0.0,0.3793613604...| 0.8727082|   4|\n",
      "|      3|   58025|[0.0,1.0,1.0,0.0,...|[0.0,0.3793613604...| 0.8727082|   5|\n",
      "+-------+--------+--------------------+--------------------+----------+----+\n",
      "\n"
     ]
    },
    {
     "name": "stderr",
     "output_type": "stream",
     "text": [
      "                                                                                \r"
     ]
    }
   ],
   "source": [
    "user_profiles_candidates_features_df \\\n",
    "    .withColumn(\"similarity\", cosine_sim_udf(f.col(\"movie_feature\"), f.col(\"profile\"))) \\\n",
    "    .withColumn(\"rank\", f.row_number().over(\n",
    "        Window.partitionBy(\"user_id\").orderBy(f.col(\"similarity\").desc())\n",
    "    )) \\\n",
    "    .filter(f\"rank <= {top_k}\").show()"
   ]
  },
  {
   "cell_type": "code",
   "execution_count": null,
   "id": "986cf2b6",
   "metadata": {},
   "outputs": [],
   "source": []
  }
 ],
 "metadata": {
  "kernelspec": {
   "display_name": "spark",
   "language": "python",
   "name": "python3"
  },
  "language_info": {
   "codemirror_mode": {
    "name": "ipython",
    "version": 3
   },
   "file_extension": ".py",
   "mimetype": "text/x-python",
   "name": "python",
   "nbconvert_exporter": "python",
   "pygments_lexer": "ipython3",
   "version": "3.10.18"
  }
 },
 "nbformat": 4,
 "nbformat_minor": 5
}
